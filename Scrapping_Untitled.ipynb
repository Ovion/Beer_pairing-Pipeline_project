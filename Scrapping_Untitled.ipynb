{
 "cells": [
  {
   "cell_type": "code",
   "execution_count": 1,
   "metadata": {},
   "outputs": [],
   "source": [
    "import pandas as pd\n",
    "from bs4 import BeautifulSoup\n",
    "from selenium import webdriver\n",
    "import requests\n",
    "import unicodedata"
   ]
  },
  {
   "cell_type": "code",
   "execution_count": 2,
   "metadata": {},
   "outputs": [],
   "source": [
    "def getPage(url):\n",
    "    driver = webdriver.Firefox()\n",
    "    driver.get(url)\n",
    "    html = driver.page_source\n",
    "    soup = BeautifulSoup(html, 'html.parser')\n",
    "    driver.quit()\n",
    "    return soup"
   ]
  },
  {
   "cell_type": "code",
   "execution_count": 3,
   "metadata": {},
   "outputs": [],
   "source": [
    "soup = getPage('https://www.thebeertimes.com/maridaje-con-cerveza/')"
   ]
  },
  {
   "cell_type": "code",
   "execution_count": 24,
   "metadata": {},
   "outputs": [],
   "source": [
    "heads = soup.select('#post-2849')[0].find_all('h3')[15:]\n",
    "contents1 = soup.select('#post-2849')[0].find_all('p')[53:71]\n",
    "contents2 = soup.select('#post-2849')[0].find_all('p')[72:82]\n",
    "contents = contents1 + contents2\n"
   ]
  },
  {
   "cell_type": "code",
   "execution_count": 43,
   "metadata": {},
   "outputs": [
    {
     "data": {
      "text/plain": [
       "{'Estilo': 'Kölsch, Cream Ale, Blonde Ale',\n",
       " 'Platos': 'Platos:\\xa0Comida liviana, pollo, ensaladas, salchichas. Quesos:\\xa0Monterey Jack, Brick o similar, quesos de sabores almendrados. Postres:\\xa0Pastel de mandarina o damasco, torta de crema y limón. Temperatura:\\xa04,5-7 °C. Vaso/Copa:\\xa0Vaso Pilsner.',\n",
       " 'Quesos': 'Quesos:',\n",
       " 'Postres': 'Postres:',\n",
       " 'Temperatura': 'Temperatura:',\n",
       " 'Vaso/Copa': 'Vaso/Copa:'}"
      ]
     },
     "execution_count": 43,
     "metadata": {},
     "output_type": "execute_result"
    }
   ],
   "source": [
    "beers_list = []\n",
    "\n",
    "texts = contents[0].find_all('b')\n",
    "beer_dict = {\n",
    "    'Estilo': heads[0].text.strip(),\n",
    "    'Platos': contents[0].text.strip(),\n",
    "    'Quesos': texts[1].text.strip(),\n",
    "    'Postres': texts[2].text.strip(),\n",
    "    'Temperatura': texts[3].text.strip(),\n",
    "    'Vaso/Copa': texts[4].text.strip()\n",
    "}\n",
    "beer_dict\n"
   ]
  },
  {
   "cell_type": "code",
   "execution_count": null,
   "metadata": {},
   "outputs": [],
   "source": []
  },
  {
   "cell_type": "code",
   "execution_count": null,
   "metadata": {},
   "outputs": [],
   "source": []
  },
  {
   "cell_type": "code",
   "execution_count": 32,
   "metadata": {},
   "outputs": [
    {
     "data": {
      "text/html": [
       "<div>\n",
       "<style scoped>\n",
       "    .dataframe tbody tr th:only-of-type {\n",
       "        vertical-align: middle;\n",
       "    }\n",
       "\n",
       "    .dataframe tbody tr th {\n",
       "        vertical-align: top;\n",
       "    }\n",
       "\n",
       "    .dataframe thead th {\n",
       "        text-align: right;\n",
       "    }\n",
       "</style>\n",
       "<table border=\"1\" class=\"dataframe\">\n",
       "  <thead>\n",
       "    <tr style=\"text-align: right;\">\n",
       "      <th></th>\n",
       "      <th>Estilo</th>\n",
       "      <th>plato</th>\n",
       "      <th>queso</th>\n",
       "      <th>temp</th>\n",
       "    </tr>\n",
       "  </thead>\n",
       "  <tbody>\n",
       "    <tr>\n",
       "      <th>2</th>\n",
       "      <td>3</td>\n",
       "      <td>fuerte</td>\n",
       "      <td>parmesano</td>\n",
       "      <td>4-10ºC</td>\n",
       "    </tr>\n",
       "  </tbody>\n",
       "</table>\n",
       "</div>"
      ],
      "text/plain": [
       "  Estilo   plato      queso    temp\n",
       "2      3  fuerte  parmesano  4-10ºC"
      ]
     },
     "execution_count": 32,
     "metadata": {},
     "output_type": "execute_result"
    }
   ],
   "source": [
    "beers_dict = [\n",
    "    {'Estilo': '1',\n",
    "    'plato': 'fuerte',\n",
    "    'queso': 'cheddar',\n",
    "    'temp': '4-10ºC'},\n",
    "    {'Estilo': '2',\n",
    "    'plato': 'ligero',\n",
    "    'queso': 'emmental',\n",
    "    'temp': '4-10ºC'},\n",
    "    {'Estilo': '3',\n",
    "    'plato': 'fuerte',\n",
    "    'queso': 'parmesano',\n",
    "    'temp': '4-10ºC'},\n",
    "]\n",
    "df_beers = pd.DataFrame(beers_dict)\n",
    "df_beers[(df_beers['Estilo']=='3')]"
   ]
  },
  {
   "cell_type": "code",
   "execution_count": 34,
   "metadata": {},
   "outputs": [
    {
     "data": {
      "text/plain": [
       "plato             fuerte\n",
       "queso          parmesano\n",
       "temperatura       4-10ºC\n",
       "Name: Estilo 3, dtype: object"
      ]
     },
     "execution_count": 34,
     "metadata": {},
     "output_type": "execute_result"
    }
   ],
   "source": [
    "beers_dict = {\n",
    "    'Estilo 1':{\n",
    "        'plato':'fuerte',\n",
    "        'queso':'cheddar',\n",
    "        'temperatura': '4-10ºC'},\n",
    "    'Estilo 2':{\n",
    "        'plato':'ligero',\n",
    "        'queso':'emmental',\n",
    "        'temperatura': '4-10ºC'},\n",
    "    'Estilo 3':{\n",
    "        'plato':'fuerte',\n",
    "        'queso':'parmesano',\n",
    "        'temperatura': '4-10ºC'},\n",
    "}\n",
    "df_beers = pd.DataFrame(beers_dict)\n",
    "df_beers['Estilo 3']"
   ]
  }
 ],
 "metadata": {
  "kernelspec": {
   "display_name": "Python 3",
   "language": "python",
   "name": "python3"
  },
  "language_info": {
   "codemirror_mode": {
    "name": "ipython",
    "version": 3
   },
   "file_extension": ".py",
   "mimetype": "text/x-python",
   "name": "python",
   "nbconvert_exporter": "python",
   "pygments_lexer": "ipython3",
   "version": "3.6.8"
  }
 },
 "nbformat": 4,
 "nbformat_minor": 2
}
